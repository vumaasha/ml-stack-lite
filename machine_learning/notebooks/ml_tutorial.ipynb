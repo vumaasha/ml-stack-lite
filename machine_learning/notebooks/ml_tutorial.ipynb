{
 "cells": [
  {
   "cell_type": "markdown",
   "metadata": {},
   "source": [
    "# Machine Learning"
   ]
  },
  {
   "cell_type": "markdown",
   "metadata": {},
   "source": [
    "## What is machine learning?\n",
    "Machine learning (ML) is often categorized as a subfield of artificial intelligence (AI). We can think of ML as a means of *building models of data* that can remember (the features of) the data. ML involves building mathematical functions/models to help understanding data. \"Learning\" can be performed when we give these models *tunable parameters* that can be adapted to available observed data (training data). In this way the program (ML model) can be considered to be learning from the data. Once these models have been fit to previously seen data, they can be used to predict and understand the aspects/features of unseen data (testing data)."
   ]
  },
  {
   "cell_type": "markdown",
   "metadata": {},
   "source": [
    "## Categories of Machine Learning\n",
    "\n",
    "ML models can be broadly categorized into two main types: supervised and unsupervised learning.\n",
    "\n",
    "*Supervised learning* involves somehow modeling the relationship between measured features of data and some label associated with the data. In this case, we have access to the observations and their corresponding labels. Typically, labeling is a costly process that needs to be done by human experts. Once this model is determined, it can be used to apply labels to new, unknown data.\n",
    "This is further subdivided into *classification* tasks and *regression* tasks: in classification, the labels are discrete categories, while in regression, the labels are continuous quantities.\n",
    "\n",
    "*Unsupervised learning* involves modeling the features of a dataset without accessing to any labels, and is often described as \"letting the dataset speak for itself.\"\n",
    "These models include tasks such as *clustering* and *dimensionality reduction.*\n",
    "Clustering algorithms identify distinct groups of data, while dimensionality reduction algorithms search for more compressed representations of the data.\n",
    "\n",
    "In addition, there are so-called *semi-supervised learning* methods, when only incomplete labels are available, as well as, reinforcement learning."
   ]
  },
  {
   "cell_type": "markdown",
   "metadata": {},
   "source": [
    "## Data science application\n",
    "### Supervised Regression to predict houce prices\n",
    "#### References\n",
    "https://towardsdatascience.com/linear-regression-in-python-predict-the-bay-areas-home-price-5c91c8378878\n",
    "\n",
    "https://github.com/jakevdp/PythonDataScienceHandbook/tree/master/notebooks"
   ]
  },
  {
   "cell_type": "code",
   "execution_count": 1,
   "metadata": {},
   "outputs": [],
   "source": [
    "# !curl -o house_data.csv https://raw.githubusercontent.com/RuiChang123/Regression_for_house_price_estimation/master/final_data.csv?accessType=DOWNLOAD"
   ]
  },
  {
   "cell_type": "markdown",
   "metadata": {},
   "source": [
    "#### Reading the data and understand how they would look like."
   ]
  },
  {
   "cell_type": "code",
   "execution_count": 2,
   "metadata": {},
   "outputs": [
    {
     "data": {
      "text/html": [
       "<div>\n",
       "<style scoped>\n",
       "    .dataframe tbody tr th:only-of-type {\n",
       "        vertical-align: middle;\n",
       "    }\n",
       "\n",
       "    .dataframe tbody tr th {\n",
       "        vertical-align: top;\n",
       "    }\n",
       "\n",
       "    .dataframe thead th {\n",
       "        text-align: right;\n",
       "    }\n",
       "</style>\n",
       "<table border=\"1\" class=\"dataframe\">\n",
       "  <thead>\n",
       "    <tr style=\"text-align: right;\">\n",
       "      <th></th>\n",
       "      <th>Unnamed: 0</th>\n",
       "      <th>address</th>\n",
       "      <th>info</th>\n",
       "      <th>z_address</th>\n",
       "      <th>bathrooms</th>\n",
       "      <th>bedrooms</th>\n",
       "      <th>finishedsqft</th>\n",
       "      <th>lastsolddate</th>\n",
       "      <th>lastsoldprice</th>\n",
       "      <th>latitude</th>\n",
       "      <th>longitude</th>\n",
       "      <th>neighborhood</th>\n",
       "      <th>totalrooms</th>\n",
       "      <th>usecode</th>\n",
       "      <th>yearbuilt</th>\n",
       "      <th>zestimate</th>\n",
       "      <th>zindexvalue</th>\n",
       "      <th>zipcode</th>\n",
       "      <th>zpid</th>\n",
       "    </tr>\n",
       "  </thead>\n",
       "  <tbody>\n",
       "    <tr>\n",
       "      <th>0</th>\n",
       "      <td>2</td>\n",
       "      <td>Address: 1160 Mission Street #2007</td>\n",
       "      <td>San FranciscoSales price: 1300000Sales date: ...</td>\n",
       "      <td>1160 Mission St UNIT 2007</td>\n",
       "      <td>2.0</td>\n",
       "      <td>2.0</td>\n",
       "      <td>1043.0</td>\n",
       "      <td>02/17/2016</td>\n",
       "      <td>1300000.0</td>\n",
       "      <td>37.778705</td>\n",
       "      <td>-122.412635</td>\n",
       "      <td>South of Market</td>\n",
       "      <td>4.0</td>\n",
       "      <td>Condominium</td>\n",
       "      <td>2007.0</td>\n",
       "      <td>1167508.0</td>\n",
       "      <td>975,700</td>\n",
       "      <td>94103.0</td>\n",
       "      <td>83152781.0</td>\n",
       "    </tr>\n",
       "    <tr>\n",
       "      <th>1</th>\n",
       "      <td>5</td>\n",
       "      <td>Address: 260 King Street #475</td>\n",
       "      <td>San FranciscoSales price: 750000Sales date: 0...</td>\n",
       "      <td>260 King St UNIT 475</td>\n",
       "      <td>1.0</td>\n",
       "      <td>1.0</td>\n",
       "      <td>903.0</td>\n",
       "      <td>02/17/2016</td>\n",
       "      <td>750000.0</td>\n",
       "      <td>37.777641</td>\n",
       "      <td>-122.393417</td>\n",
       "      <td>South of Market</td>\n",
       "      <td>3.0</td>\n",
       "      <td>Condominium</td>\n",
       "      <td>2004.0</td>\n",
       "      <td>823719.0</td>\n",
       "      <td>975,700</td>\n",
       "      <td>94107.0</td>\n",
       "      <td>69819817.0</td>\n",
       "    </tr>\n",
       "    <tr>\n",
       "      <th>2</th>\n",
       "      <td>7</td>\n",
       "      <td>Address: 560 Missouri Street #B</td>\n",
       "      <td>San FranciscoSales price: 1495000Sales date: ...</td>\n",
       "      <td>560 Missouri St # B</td>\n",
       "      <td>4.0</td>\n",
       "      <td>3.0</td>\n",
       "      <td>1425.0</td>\n",
       "      <td>02/17/2016</td>\n",
       "      <td>1495000.0</td>\n",
       "      <td>37.759198</td>\n",
       "      <td>-122.396516</td>\n",
       "      <td>Potrero Hill</td>\n",
       "      <td>6.0</td>\n",
       "      <td>Condominium</td>\n",
       "      <td>2003.0</td>\n",
       "      <td>1708594.0</td>\n",
       "      <td>1,277,600</td>\n",
       "      <td>94107.0</td>\n",
       "      <td>64972847.0</td>\n",
       "    </tr>\n",
       "    <tr>\n",
       "      <th>3</th>\n",
       "      <td>9</td>\n",
       "      <td>Address: 350 Missouri Street</td>\n",
       "      <td>San FranciscoSales price: 2700000Sales date: ...</td>\n",
       "      <td>350 Missouri St</td>\n",
       "      <td>3.0</td>\n",
       "      <td>3.0</td>\n",
       "      <td>2231.0</td>\n",
       "      <td>02/17/2016</td>\n",
       "      <td>2700000.0</td>\n",
       "      <td>37.761886</td>\n",
       "      <td>-122.396769</td>\n",
       "      <td>Potrero Hill</td>\n",
       "      <td>10.0</td>\n",
       "      <td>SingleFamily</td>\n",
       "      <td>1927.0</td>\n",
       "      <td>2411236.0</td>\n",
       "      <td>1,277,600</td>\n",
       "      <td>94107.0</td>\n",
       "      <td>15149489.0</td>\n",
       "    </tr>\n",
       "    <tr>\n",
       "      <th>4</th>\n",
       "      <td>11</td>\n",
       "      <td>Address: 3658 Folsom Street</td>\n",
       "      <td>San FranciscoSales price: 1530000Sales date: ...</td>\n",
       "      <td>3658 Folsom St</td>\n",
       "      <td>3.0</td>\n",
       "      <td>3.0</td>\n",
       "      <td>1300.0</td>\n",
       "      <td>02/17/2016</td>\n",
       "      <td>1530000.0</td>\n",
       "      <td>37.740795</td>\n",
       "      <td>-122.413453</td>\n",
       "      <td>Bernal Heights</td>\n",
       "      <td>4.0</td>\n",
       "      <td>SingleFamily</td>\n",
       "      <td>1900.0</td>\n",
       "      <td>1918539.0</td>\n",
       "      <td>1,248,000</td>\n",
       "      <td>94110.0</td>\n",
       "      <td>15161978.0</td>\n",
       "    </tr>\n",
       "    <tr>\n",
       "      <th>5</th>\n",
       "      <td>12</td>\n",
       "      <td>Address: 156 Lowell Street</td>\n",
       "      <td>San FranciscoSales price: 460000Sales date: 0...</td>\n",
       "      <td>156 Lowell St</td>\n",
       "      <td>1.0</td>\n",
       "      <td>2.0</td>\n",
       "      <td>1250.0</td>\n",
       "      <td>02/17/2016</td>\n",
       "      <td>460000.0</td>\n",
       "      <td>37.710226</td>\n",
       "      <td>-122.446027</td>\n",
       "      <td>Crocker Amazon</td>\n",
       "      <td>5.0</td>\n",
       "      <td>SingleFamily</td>\n",
       "      <td>1924.0</td>\n",
       "      <td>703392.0</td>\n",
       "      <td>823,000</td>\n",
       "      <td>94112.0</td>\n",
       "      <td>15178981.0</td>\n",
       "    </tr>\n",
       "    <tr>\n",
       "      <th>6</th>\n",
       "      <td>13</td>\n",
       "      <td>Address: 735 Lakeview Avenue</td>\n",
       "      <td>San FranciscoSales price: 532000Sales date: 0...</td>\n",
       "      <td>735 Lakeview Ave</td>\n",
       "      <td>1.0</td>\n",
       "      <td>3.0</td>\n",
       "      <td>1032.0</td>\n",
       "      <td>02/17/2016</td>\n",
       "      <td>532000.0</td>\n",
       "      <td>37.718024</td>\n",
       "      <td>-122.460332</td>\n",
       "      <td>Oceanview</td>\n",
       "      <td>6.0</td>\n",
       "      <td>SingleFamily</td>\n",
       "      <td>1939.0</td>\n",
       "      <td>741715.0</td>\n",
       "      <td>762,700</td>\n",
       "      <td>94112.0</td>\n",
       "      <td>15192274.0</td>\n",
       "    </tr>\n",
       "    <tr>\n",
       "      <th>7</th>\n",
       "      <td>14</td>\n",
       "      <td>Address: 430 Capistrano Avenue</td>\n",
       "      <td>San FranciscoSales price: 1050000Sales date: ...</td>\n",
       "      <td>430 Capistrano Ave</td>\n",
       "      <td>1.0</td>\n",
       "      <td>2.0</td>\n",
       "      <td>1200.0</td>\n",
       "      <td>02/17/2016</td>\n",
       "      <td>1050000.0</td>\n",
       "      <td>37.725204</td>\n",
       "      <td>-122.439273</td>\n",
       "      <td>Mission Terrace</td>\n",
       "      <td>5.0</td>\n",
       "      <td>SingleFamily</td>\n",
       "      <td>1924.0</td>\n",
       "      <td>1023650.0</td>\n",
       "      <td>992,600</td>\n",
       "      <td>94112.0</td>\n",
       "      <td>15141129.0</td>\n",
       "    </tr>\n",
       "    <tr>\n",
       "      <th>8</th>\n",
       "      <td>15</td>\n",
       "      <td>Address: 4135 23rd Street</td>\n",
       "      <td>San FranciscoSales price: 3500000Sales date: ...</td>\n",
       "      <td>4135 23rd St</td>\n",
       "      <td>3.5</td>\n",
       "      <td>4.0</td>\n",
       "      <td>2700.0</td>\n",
       "      <td>02/17/2016</td>\n",
       "      <td>3500000.0</td>\n",
       "      <td>37.752602</td>\n",
       "      <td>-122.435011</td>\n",
       "      <td>Noe Valley</td>\n",
       "      <td>9.0</td>\n",
       "      <td>SingleFamily</td>\n",
       "      <td>1912.0</td>\n",
       "      <td>3604950.0</td>\n",
       "      <td>1,782,000</td>\n",
       "      <td>94114.0</td>\n",
       "      <td>15131647.0</td>\n",
       "    </tr>\n",
       "    <tr>\n",
       "      <th>9</th>\n",
       "      <td>16</td>\n",
       "      <td>Address: 440 Steiner Street</td>\n",
       "      <td>San FranciscoSales price: 1500000Sales date: ...</td>\n",
       "      <td>440 Steiner St</td>\n",
       "      <td>2.0</td>\n",
       "      <td>3.0</td>\n",
       "      <td>2016.0</td>\n",
       "      <td>02/17/2016</td>\n",
       "      <td>1500000.0</td>\n",
       "      <td>37.773237</td>\n",
       "      <td>-122.432302</td>\n",
       "      <td>Hayes Valley</td>\n",
       "      <td>7.0</td>\n",
       "      <td>Condominium</td>\n",
       "      <td>1890.0</td>\n",
       "      <td>1547314.0</td>\n",
       "      <td>1,224,800</td>\n",
       "      <td>94117.0</td>\n",
       "      <td>118608077.0</td>\n",
       "    </tr>\n",
       "  </tbody>\n",
       "</table>\n",
       "</div>"
      ],
      "text/plain": [
       "   Unnamed: 0                             address  \\\n",
       "0           2  Address: 1160 Mission Street #2007   \n",
       "1           5       Address: 260 King Street #475   \n",
       "2           7     Address: 560 Missouri Street #B   \n",
       "3           9        Address: 350 Missouri Street   \n",
       "4          11         Address: 3658 Folsom Street   \n",
       "5          12          Address: 156 Lowell Street   \n",
       "6          13        Address: 735 Lakeview Avenue   \n",
       "7          14      Address: 430 Capistrano Avenue   \n",
       "8          15           Address: 4135 23rd Street   \n",
       "9          16         Address: 440 Steiner Street   \n",
       "\n",
       "                                                info  \\\n",
       "0   San FranciscoSales price: 1300000Sales date: ...   \n",
       "1   San FranciscoSales price: 750000Sales date: 0...   \n",
       "2   San FranciscoSales price: 1495000Sales date: ...   \n",
       "3   San FranciscoSales price: 2700000Sales date: ...   \n",
       "4   San FranciscoSales price: 1530000Sales date: ...   \n",
       "5   San FranciscoSales price: 460000Sales date: 0...   \n",
       "6   San FranciscoSales price: 532000Sales date: 0...   \n",
       "7   San FranciscoSales price: 1050000Sales date: ...   \n",
       "8   San FranciscoSales price: 3500000Sales date: ...   \n",
       "9   San FranciscoSales price: 1500000Sales date: ...   \n",
       "\n",
       "                   z_address  bathrooms  bedrooms  finishedsqft lastsolddate  \\\n",
       "0  1160 Mission St UNIT 2007        2.0       2.0        1043.0   02/17/2016   \n",
       "1       260 King St UNIT 475        1.0       1.0         903.0   02/17/2016   \n",
       "2        560 Missouri St # B        4.0       3.0        1425.0   02/17/2016   \n",
       "3            350 Missouri St        3.0       3.0        2231.0   02/17/2016   \n",
       "4             3658 Folsom St        3.0       3.0        1300.0   02/17/2016   \n",
       "5              156 Lowell St        1.0       2.0        1250.0   02/17/2016   \n",
       "6           735 Lakeview Ave        1.0       3.0        1032.0   02/17/2016   \n",
       "7         430 Capistrano Ave        1.0       2.0        1200.0   02/17/2016   \n",
       "8               4135 23rd St        3.5       4.0        2700.0   02/17/2016   \n",
       "9             440 Steiner St        2.0       3.0        2016.0   02/17/2016   \n",
       "\n",
       "   lastsoldprice   latitude   longitude     neighborhood  totalrooms  \\\n",
       "0      1300000.0  37.778705 -122.412635  South of Market         4.0   \n",
       "1       750000.0  37.777641 -122.393417  South of Market         3.0   \n",
       "2      1495000.0  37.759198 -122.396516     Potrero Hill         6.0   \n",
       "3      2700000.0  37.761886 -122.396769     Potrero Hill        10.0   \n",
       "4      1530000.0  37.740795 -122.413453   Bernal Heights         4.0   \n",
       "5       460000.0  37.710226 -122.446027   Crocker Amazon         5.0   \n",
       "6       532000.0  37.718024 -122.460332        Oceanview         6.0   \n",
       "7      1050000.0  37.725204 -122.439273  Mission Terrace         5.0   \n",
       "8      3500000.0  37.752602 -122.435011       Noe Valley         9.0   \n",
       "9      1500000.0  37.773237 -122.432302     Hayes Valley         7.0   \n",
       "\n",
       "        usecode  yearbuilt  zestimate zindexvalue  zipcode         zpid  \n",
       "0   Condominium     2007.0  1167508.0     975,700  94103.0   83152781.0  \n",
       "1   Condominium     2004.0   823719.0     975,700  94107.0   69819817.0  \n",
       "2   Condominium     2003.0  1708594.0   1,277,600  94107.0   64972847.0  \n",
       "3  SingleFamily     1927.0  2411236.0   1,277,600  94107.0   15149489.0  \n",
       "4  SingleFamily     1900.0  1918539.0   1,248,000  94110.0   15161978.0  \n",
       "5  SingleFamily     1924.0   703392.0     823,000  94112.0   15178981.0  \n",
       "6  SingleFamily     1939.0   741715.0     762,700  94112.0   15192274.0  \n",
       "7  SingleFamily     1924.0  1023650.0     992,600  94112.0   15141129.0  \n",
       "8  SingleFamily     1912.0  3604950.0   1,782,000  94114.0   15131647.0  \n",
       "9   Condominium     1890.0  1547314.0   1,224,800  94117.0  118608077.0  "
      ]
     },
     "execution_count": 2,
     "metadata": {},
     "output_type": "execute_result"
    }
   ],
   "source": [
    "import pandas as pd\n",
    "sf = pd.read_csv('house_data.csv')\n",
    "sf.head(10)"
   ]
  },
  {
   "cell_type": "markdown",
   "metadata": {},
   "source": [
    "#### It is always necessary to know the number of samples (observations) in the dataset and the size/dimension of their features. Typically, eacdh observation is represented by a vector of features in ML problems."
   ]
  },
  {
   "cell_type": "code",
   "execution_count": 3,
   "metadata": {},
   "outputs": [
    {
     "name": "stdout",
     "output_type": "stream",
     "text": [
      "Observations: 11330\n",
      "Features: 19\n"
     ]
    }
   ],
   "source": [
    "print(\"Observations: \" + str(sf.shape[0]) + \"\\n\" + \"Features: \" + str(sf.shape[1]))"
   ]
  },
  {
   "cell_type": "markdown",
   "metadata": {},
   "source": [
    "#### Drop some useless features and again check the number of samples and size of the features. Basically, it is better to have less number of informative features rather than more but repetetive (correlated) features."
   ]
  },
  {
   "cell_type": "code",
   "execution_count": 4,
   "metadata": {},
   "outputs": [
    {
     "name": "stdout",
     "output_type": "stream",
     "text": [
      "Observations: 11330\n",
      "Features: 13\n"
     ]
    }
   ],
   "source": [
    "sf.drop(sf.columns[[0, 2, 3, 15, 17, 18]], axis=1, inplace=True)\n",
    "print(\"Observations: \" + str(sf.shape[0]) + \"\\n\" + \"Features: \" + str(sf.shape[1]))"
   ]
  },
  {
   "cell_type": "markdown",
   "metadata": {},
   "source": [
    "#### It is also necessary to know the type of each feature. Some features are numerical and some of them are categorical. For ML algorithm to learn, it is mandatory to convert all the categorical variables into numerical features."
   ]
  },
  {
   "cell_type": "code",
   "execution_count": 5,
   "metadata": {},
   "outputs": [
    {
     "name": "stdout",
     "output_type": "stream",
     "text": [
      "<class 'pandas.core.frame.DataFrame'>\n",
      "RangeIndex: 11330 entries, 0 to 11329\n",
      "Data columns (total 13 columns):\n",
      "address          11330 non-null object\n",
      "bathrooms        11330 non-null float64\n",
      "bedrooms         11330 non-null float64\n",
      "finishedsqft     11330 non-null float64\n",
      "lastsolddate     11330 non-null object\n",
      "lastsoldprice    11330 non-null float64\n",
      "latitude         11330 non-null float64\n",
      "longitude        11330 non-null float64\n",
      "neighborhood     11330 non-null object\n",
      "totalrooms       11330 non-null float64\n",
      "usecode          11330 non-null object\n",
      "yearbuilt        11330 non-null float64\n",
      "zindexvalue      11330 non-null object\n",
      "dtypes: float64(8), object(5)\n",
      "memory usage: 1.1+ MB\n"
     ]
    }
   ],
   "source": [
    "sf.info()"
   ]
  },
  {
   "cell_type": "markdown",
   "metadata": {},
   "source": [
    "#### To convert the data type of zindexvalue from object to numerical values."
   ]
  },
  {
   "cell_type": "code",
   "execution_count": 6,
   "metadata": {},
   "outputs": [
    {
     "name": "stderr",
     "output_type": "stream",
     "text": [
      "/home/saman/anaconda3/envs/env_tensorflow/lib/python3.6/site-packages/ipykernel_launcher.py:2: FutureWarning: convert_objects is deprecated.  To re-infer data dtypes for object columns, use Series.infer_objects()\n",
      "For all other conversions use the data-type specific converters pd.to_datetime, pd.to_timedelta and pd.to_numeric.\n",
      "  \n"
     ]
    }
   ],
   "source": [
    "sf['zindexvalue'] = sf['zindexvalue'].str.replace(',', '')\n",
    "sf['zindexvalue'] = sf['zindexvalue'].convert_objects(convert_numeric=True)"
   ]
  },
  {
   "cell_type": "markdown",
   "metadata": {},
   "source": [
    "#### To show the summarization the numerical variables as some meaningful statistics"
   ]
  },
  {
   "cell_type": "code",
   "execution_count": 7,
   "metadata": {},
   "outputs": [
    {
     "data": {
      "text/html": [
       "<div>\n",
       "<style scoped>\n",
       "    .dataframe tbody tr th:only-of-type {\n",
       "        vertical-align: middle;\n",
       "    }\n",
       "\n",
       "    .dataframe tbody tr th {\n",
       "        vertical-align: top;\n",
       "    }\n",
       "\n",
       "    .dataframe thead th {\n",
       "        text-align: right;\n",
       "    }\n",
       "</style>\n",
       "<table border=\"1\" class=\"dataframe\">\n",
       "  <thead>\n",
       "    <tr style=\"text-align: right;\">\n",
       "      <th></th>\n",
       "      <th>bathrooms</th>\n",
       "      <th>bedrooms</th>\n",
       "      <th>finishedsqft</th>\n",
       "      <th>lastsoldprice</th>\n",
       "      <th>latitude</th>\n",
       "      <th>longitude</th>\n",
       "      <th>totalrooms</th>\n",
       "      <th>yearbuilt</th>\n",
       "      <th>zindexvalue</th>\n",
       "    </tr>\n",
       "  </thead>\n",
       "  <tbody>\n",
       "    <tr>\n",
       "      <th>count</th>\n",
       "      <td>11330.000000</td>\n",
       "      <td>11330.000000</td>\n",
       "      <td>11330.000000</td>\n",
       "      <td>1.133000e+04</td>\n",
       "      <td>11330.000000</td>\n",
       "      <td>11330.000000</td>\n",
       "      <td>11330.000000</td>\n",
       "      <td>11330.000000</td>\n",
       "      <td>1.133000e+04</td>\n",
       "    </tr>\n",
       "    <tr>\n",
       "      <th>mean</th>\n",
       "      <td>1.980229</td>\n",
       "      <td>2.614475</td>\n",
       "      <td>1585.420918</td>\n",
       "      <td>1.263928e+06</td>\n",
       "      <td>37.759711</td>\n",
       "      <td>-122.436518</td>\n",
       "      <td>6.111562</td>\n",
       "      <td>1948.498147</td>\n",
       "      <td>1.320205e+06</td>\n",
       "    </tr>\n",
       "    <tr>\n",
       "      <th>std</th>\n",
       "      <td>1.047358</td>\n",
       "      <td>1.299457</td>\n",
       "      <td>921.978245</td>\n",
       "      <td>1.042079e+06</td>\n",
       "      <td>0.025578</td>\n",
       "      <td>0.030743</td>\n",
       "      <td>12.125819</td>\n",
       "      <td>37.911196</td>\n",
       "      <td>5.848170e+05</td>\n",
       "    </tr>\n",
       "    <tr>\n",
       "      <th>min</th>\n",
       "      <td>0.500000</td>\n",
       "      <td>0.000000</td>\n",
       "      <td>1.000000</td>\n",
       "      <td>5.350000e+02</td>\n",
       "      <td>37.708170</td>\n",
       "      <td>-122.510726</td>\n",
       "      <td>1.000000</td>\n",
       "      <td>1860.000000</td>\n",
       "      <td>6.881000e+05</td>\n",
       "    </tr>\n",
       "    <tr>\n",
       "      <th>25%</th>\n",
       "      <td>1.000000</td>\n",
       "      <td>2.000000</td>\n",
       "      <td>1019.000000</td>\n",
       "      <td>7.292500e+05</td>\n",
       "      <td>37.739286</td>\n",
       "      <td>-122.455157</td>\n",
       "      <td>4.000000</td>\n",
       "      <td>1916.000000</td>\n",
       "      <td>9.829000e+05</td>\n",
       "    </tr>\n",
       "    <tr>\n",
       "      <th>50%</th>\n",
       "      <td>2.000000</td>\n",
       "      <td>2.000000</td>\n",
       "      <td>1362.000000</td>\n",
       "      <td>9.900000e+05</td>\n",
       "      <td>37.760513</td>\n",
       "      <td>-122.432510</td>\n",
       "      <td>5.000000</td>\n",
       "      <td>1940.000000</td>\n",
       "      <td>1.211900e+06</td>\n",
       "    </tr>\n",
       "    <tr>\n",
       "      <th>75%</th>\n",
       "      <td>2.000000</td>\n",
       "      <td>3.000000</td>\n",
       "      <td>1876.000000</td>\n",
       "      <td>1.450000e+06</td>\n",
       "      <td>37.781386</td>\n",
       "      <td>-122.413359</td>\n",
       "      <td>7.000000</td>\n",
       "      <td>1986.000000</td>\n",
       "      <td>1.480400e+06</td>\n",
       "    </tr>\n",
       "    <tr>\n",
       "      <th>max</th>\n",
       "      <td>14.000000</td>\n",
       "      <td>20.000000</td>\n",
       "      <td>27275.000000</td>\n",
       "      <td>2.388900e+07</td>\n",
       "      <td>37.806083</td>\n",
       "      <td>-122.381201</td>\n",
       "      <td>1264.000000</td>\n",
       "      <td>2016.000000</td>\n",
       "      <td>5.333500e+06</td>\n",
       "    </tr>\n",
       "  </tbody>\n",
       "</table>\n",
       "</div>"
      ],
      "text/plain": [
       "          bathrooms      bedrooms  finishedsqft  lastsoldprice      latitude  \\\n",
       "count  11330.000000  11330.000000  11330.000000   1.133000e+04  11330.000000   \n",
       "mean       1.980229      2.614475   1585.420918   1.263928e+06     37.759711   \n",
       "std        1.047358      1.299457    921.978245   1.042079e+06      0.025578   \n",
       "min        0.500000      0.000000      1.000000   5.350000e+02     37.708170   \n",
       "25%        1.000000      2.000000   1019.000000   7.292500e+05     37.739286   \n",
       "50%        2.000000      2.000000   1362.000000   9.900000e+05     37.760513   \n",
       "75%        2.000000      3.000000   1876.000000   1.450000e+06     37.781386   \n",
       "max       14.000000     20.000000  27275.000000   2.388900e+07     37.806083   \n",
       "\n",
       "          longitude    totalrooms     yearbuilt   zindexvalue  \n",
       "count  11330.000000  11330.000000  11330.000000  1.133000e+04  \n",
       "mean    -122.436518      6.111562   1948.498147  1.320205e+06  \n",
       "std        0.030743     12.125819     37.911196  5.848170e+05  \n",
       "min     -122.510726      1.000000   1860.000000  6.881000e+05  \n",
       "25%     -122.455157      4.000000   1916.000000  9.829000e+05  \n",
       "50%     -122.432510      5.000000   1940.000000  1.211900e+06  \n",
       "75%     -122.413359      7.000000   1986.000000  1.480400e+06  \n",
       "max     -122.381201   1264.000000   2016.000000  5.333500e+06  "
      ]
     },
     "execution_count": 7,
     "metadata": {},
     "output_type": "execute_result"
    }
   ],
   "source": [
    "sf.describe()"
   ]
  },
  {
   "cell_type": "markdown",
   "metadata": {},
   "source": [
    "#### Just found out there is an outlier!"
   ]
  },
  {
   "cell_type": "code",
   "execution_count": 8,
   "metadata": {},
   "outputs": [
    {
     "data": {
      "text/html": [
       "<div>\n",
       "<style scoped>\n",
       "    .dataframe tbody tr th:only-of-type {\n",
       "        vertical-align: middle;\n",
       "    }\n",
       "\n",
       "    .dataframe tbody tr th {\n",
       "        vertical-align: top;\n",
       "    }\n",
       "\n",
       "    .dataframe thead th {\n",
       "        text-align: right;\n",
       "    }\n",
       "</style>\n",
       "<table border=\"1\" class=\"dataframe\">\n",
       "  <thead>\n",
       "    <tr style=\"text-align: right;\">\n",
       "      <th></th>\n",
       "      <th>address</th>\n",
       "      <th>bathrooms</th>\n",
       "      <th>bedrooms</th>\n",
       "      <th>finishedsqft</th>\n",
       "      <th>lastsolddate</th>\n",
       "      <th>lastsoldprice</th>\n",
       "      <th>latitude</th>\n",
       "      <th>longitude</th>\n",
       "      <th>neighborhood</th>\n",
       "      <th>totalrooms</th>\n",
       "      <th>usecode</th>\n",
       "      <th>yearbuilt</th>\n",
       "      <th>zindexvalue</th>\n",
       "    </tr>\n",
       "  </thead>\n",
       "  <tbody>\n",
       "    <tr>\n",
       "      <th>6743</th>\n",
       "      <td>Address: 2425 Franklin Street</td>\n",
       "      <td>1.0</td>\n",
       "      <td>20.0</td>\n",
       "      <td>979.0</td>\n",
       "      <td>12/03/2013</td>\n",
       "      <td>965000.0</td>\n",
       "      <td>37.796841</td>\n",
       "      <td>-122.425636</td>\n",
       "      <td>Pacific Heights</td>\n",
       "      <td>6.0</td>\n",
       "      <td>Condominium</td>\n",
       "      <td>1908.0</td>\n",
       "      <td>1884400</td>\n",
       "    </tr>\n",
       "  </tbody>\n",
       "</table>\n",
       "</div>"
      ],
      "text/plain": [
       "                            address  bathrooms  bedrooms  finishedsqft  \\\n",
       "6743  Address: 2425 Franklin Street        1.0      20.0         979.0   \n",
       "\n",
       "     lastsolddate  lastsoldprice   latitude   longitude     neighborhood  \\\n",
       "6743   12/03/2013       965000.0  37.796841 -122.425636  Pacific Heights   \n",
       "\n",
       "      totalrooms      usecode  yearbuilt  zindexvalue  \n",
       "6743         6.0  Condominium     1908.0      1884400  "
      ]
     },
     "execution_count": 8,
     "metadata": {},
     "output_type": "execute_result"
    }
   ],
   "source": [
    "sf.loc[sf['bedrooms'] == 20]"
   ]
  },
  {
   "cell_type": "markdown",
   "metadata": {},
   "source": [
    "#### Drop duplicates and outliers if any"
   ]
  },
  {
   "cell_type": "code",
   "execution_count": 9,
   "metadata": {
    "scrolled": true
   },
   "outputs": [],
   "source": [
    "sf.drop(sf.index[sf['bedrooms'] == 20], inplace = True)\n",
    "# sf = sf.drop_duplicates()"
   ]
  },
  {
   "cell_type": "code",
   "execution_count": 10,
   "metadata": {},
   "outputs": [
    {
     "data": {
      "text/plain": [
       "(11329, 13)"
      ]
     },
     "execution_count": 10,
     "metadata": {},
     "output_type": "execute_result"
    }
   ],
   "source": [
    "sf.shape"
   ]
  },
  {
   "cell_type": "markdown",
   "metadata": {},
   "source": [
    "#### The scatter plot with latitude and longitude to visualize the data. This image tells us that the most expensive houses sold were in the north area."
   ]
  },
  {
   "cell_type": "code",
   "execution_count": 11,
   "metadata": {},
   "outputs": [
    {
     "data": {
      "text/plain": [
       "<matplotlib.axes._subplots.AxesSubplot at 0x7fac592b4438>"
      ]
     },
     "execution_count": 11,
     "metadata": {},
     "output_type": "execute_result"
    },
    {
     "data": {
      "image/png": "[encoded data removed]",
      "text/plain": [
       "<Figure size 720x504 with 2 Axes>"
      ]
     },
     "metadata": {
      "needs_background": "light"
     },
     "output_type": "display_data"
    }
   ],
   "source": [
    "%matplotlib inline\n",
    "import matplotlib.pyplot as plt\n",
    "sf.plot(kind=\"scatter\", x=\"longitude\", y=\"latitude\", alpha=0.4, figsize=(10,7),\n",
    "    c=\"lastsoldprice\", cmap=plt.get_cmap(\"jet\"), colorbar=True,\n",
    "    sharex=False)"
   ]
  },
  {
   "cell_type": "markdown",
   "metadata": {},
   "source": [
    "#### The correlation of each independent variable (feature/predictor) to the dependent variable (target)"
   ]
  },
  {
   "cell_type": "code",
   "execution_count": 12,
   "metadata": {},
   "outputs": [
    {
     "data": {
      "text/plain": [
       "lastsoldprice    1.000000\n",
       "finishedsqft     0.647206\n",
       "bathrooms        0.536879\n",
       "zindexvalue      0.460474\n",
       "bedrooms         0.398983\n",
       "latitude         0.283171\n",
       "totalrooms       0.093527\n",
       "longitude       -0.052586\n",
       "yearbuilt       -0.189092\n",
       "Name: lastsoldprice, dtype: float64"
      ]
     },
     "execution_count": 12,
     "metadata": {},
     "output_type": "execute_result"
    }
   ],
   "source": [
    "corr_matrix = sf.corr()\n",
    "corr_matrix[\"lastsoldprice\"].sort_values(ascending=False)"
   ]
  },
  {
   "cell_type": "markdown",
   "metadata": {},
   "source": [
    "#### The target variable (lastsoldprice) has a strong and positive correlation with the finishedsqft."
   ]
  },
  {
   "cell_type": "code",
   "execution_count": 13,
   "metadata": {},
   "outputs": [
    {
     "data": {
      "image/png": "[encoded data removed]",
      "text/plain": [
       "<Figure size 432x288 with 1 Axes>"
      ]
     },
     "metadata": {
      "needs_background": "light"
     },
     "output_type": "display_data"
    }
   ],
   "source": [
    "sorted_sf = sf.sort_values(by=['finishedsqft'])\n",
    "plt.plot(sorted_sf['finishedsqft'][:-1], sorted_sf['lastsoldprice'][:-1])\n",
    "plt.show()"
   ]
  },
  {
   "cell_type": "code",
   "execution_count": 14,
   "metadata": {},
   "outputs": [
    {
     "data": {
      "text/html": [
       "<div>\n",
       "<style scoped>\n",
       "    .dataframe tbody tr th:only-of-type {\n",
       "        vertical-align: middle;\n",
       "    }\n",
       "\n",
       "    .dataframe tbody tr th {\n",
       "        vertical-align: top;\n",
       "    }\n",
       "\n",
       "    .dataframe thead th {\n",
       "        text-align: right;\n",
       "    }\n",
       "</style>\n",
       "<table border=\"1\" class=\"dataframe\">\n",
       "  <thead>\n",
       "    <tr style=\"text-align: right;\">\n",
       "      <th></th>\n",
       "      <th>address</th>\n",
       "      <th>bathrooms</th>\n",
       "      <th>bedrooms</th>\n",
       "      <th>finishedsqft</th>\n",
       "      <th>lastsolddate</th>\n",
       "      <th>lastsoldprice</th>\n",
       "      <th>latitude</th>\n",
       "      <th>longitude</th>\n",
       "      <th>neighborhood</th>\n",
       "      <th>totalrooms</th>\n",
       "      <th>usecode</th>\n",
       "      <th>yearbuilt</th>\n",
       "      <th>zindexvalue</th>\n",
       "    </tr>\n",
       "  </thead>\n",
       "  <tbody>\n",
       "    <tr>\n",
       "      <th>0</th>\n",
       "      <td>Address: 1160 Mission Street #2007</td>\n",
       "      <td>2.0</td>\n",
       "      <td>2.0</td>\n",
       "      <td>1043.0</td>\n",
       "      <td>02/17/2016</td>\n",
       "      <td>1300000.0</td>\n",
       "      <td>37.778705</td>\n",
       "      <td>-122.412635</td>\n",
       "      <td>South of Market</td>\n",
       "      <td>4.0</td>\n",
       "      <td>Condominium</td>\n",
       "      <td>2007.0</td>\n",
       "      <td>975700</td>\n",
       "    </tr>\n",
       "    <tr>\n",
       "      <th>1</th>\n",
       "      <td>Address: 260 King Street #475</td>\n",
       "      <td>1.0</td>\n",
       "      <td>1.0</td>\n",
       "      <td>903.0</td>\n",
       "      <td>02/17/2016</td>\n",
       "      <td>750000.0</td>\n",
       "      <td>37.777641</td>\n",
       "      <td>-122.393417</td>\n",
       "      <td>South of Market</td>\n",
       "      <td>3.0</td>\n",
       "      <td>Condominium</td>\n",
       "      <td>2004.0</td>\n",
       "      <td>975700</td>\n",
       "    </tr>\n",
       "    <tr>\n",
       "      <th>2</th>\n",
       "      <td>Address: 560 Missouri Street #B</td>\n",
       "      <td>4.0</td>\n",
       "      <td>3.0</td>\n",
       "      <td>1425.0</td>\n",
       "      <td>02/17/2016</td>\n",
       "      <td>1495000.0</td>\n",
       "      <td>37.759198</td>\n",
       "      <td>-122.396516</td>\n",
       "      <td>Potrero Hill</td>\n",
       "      <td>6.0</td>\n",
       "      <td>Condominium</td>\n",
       "      <td>2003.0</td>\n",
       "      <td>1277600</td>\n",
       "    </tr>\n",
       "    <tr>\n",
       "      <th>3</th>\n",
       "      <td>Address: 350 Missouri Street</td>\n",
       "      <td>3.0</td>\n",
       "      <td>3.0</td>\n",
       "      <td>2231.0</td>\n",
       "      <td>02/17/2016</td>\n",
       "      <td>2700000.0</td>\n",
       "      <td>37.761886</td>\n",
       "      <td>-122.396769</td>\n",
       "      <td>Potrero Hill</td>\n",
       "      <td>10.0</td>\n",
       "      <td>SingleFamily</td>\n",
       "      <td>1927.0</td>\n",
       "      <td>1277600</td>\n",
       "    </tr>\n",
       "    <tr>\n",
       "      <th>4</th>\n",
       "      <td>Address: 3658 Folsom Street</td>\n",
       "      <td>3.0</td>\n",
       "      <td>3.0</td>\n",
       "      <td>1300.0</td>\n",
       "      <td>02/17/2016</td>\n",
       "      <td>1530000.0</td>\n",
       "      <td>37.740795</td>\n",
       "      <td>-122.413453</td>\n",
       "      <td>Bernal Heights</td>\n",
       "      <td>4.0</td>\n",
       "      <td>SingleFamily</td>\n",
       "      <td>1900.0</td>\n",
       "      <td>1248000</td>\n",
       "    </tr>\n",
       "  </tbody>\n",
       "</table>\n",
       "</div>"
      ],
      "text/plain": [
       "                              address  bathrooms  bedrooms  finishedsqft  \\\n",
       "0  Address: 1160 Mission Street #2007        2.0       2.0        1043.0   \n",
       "1       Address: 260 King Street #475        1.0       1.0         903.0   \n",
       "2     Address: 560 Missouri Street #B        4.0       3.0        1425.0   \n",
       "3        Address: 350 Missouri Street        3.0       3.0        2231.0   \n",
       "4         Address: 3658 Folsom Street        3.0       3.0        1300.0   \n",
       "\n",
       "  lastsolddate  lastsoldprice   latitude   longitude     neighborhood  \\\n",
       "0   02/17/2016      1300000.0  37.778705 -122.412635  South of Market   \n",
       "1   02/17/2016       750000.0  37.777641 -122.393417  South of Market   \n",
       "2   02/17/2016      1495000.0  37.759198 -122.396516     Potrero Hill   \n",
       "3   02/17/2016      2700000.0  37.761886 -122.396769     Potrero Hill   \n",
       "4   02/17/2016      1530000.0  37.740795 -122.413453   Bernal Heights   \n",
       "\n",
       "   totalrooms       usecode  yearbuilt  zindexvalue  \n",
       "0         4.0   Condominium     2007.0       975700  \n",
       "1         3.0   Condominium     2004.0       975700  \n",
       "2         6.0   Condominium     2003.0      1277600  \n",
       "3        10.0  SingleFamily     1927.0      1277600  \n",
       "4         4.0  SingleFamily     1900.0      1248000  "
      ]
     },
     "execution_count": 14,
     "metadata": {},
     "output_type": "execute_result"
    }
   ],
   "source": [
    "sf.head()"
   ]
  },
  {
   "cell_type": "markdown",
   "metadata": {},
   "source": [
    "#### Drop some of other non-informative features"
   ]
  },
  {
   "cell_type": "code",
   "execution_count": 15,
   "metadata": {},
   "outputs": [
    {
     "data": {
      "text/html": [
       "<div>\n",
       "<style scoped>\n",
       "    .dataframe tbody tr th:only-of-type {\n",
       "        vertical-align: middle;\n",
       "    }\n",
       "\n",
       "    .dataframe tbody tr th {\n",
       "        vertical-align: top;\n",
       "    }\n",
       "\n",
       "    .dataframe thead th {\n",
       "        text-align: right;\n",
       "    }\n",
       "</style>\n",
       "<table border=\"1\" class=\"dataframe\">\n",
       "  <thead>\n",
       "    <tr style=\"text-align: right;\">\n",
       "      <th></th>\n",
       "      <th>bathrooms</th>\n",
       "      <th>bedrooms</th>\n",
       "      <th>finishedsqft</th>\n",
       "      <th>totalrooms</th>\n",
       "      <th>usecode</th>\n",
       "      <th>yearbuilt</th>\n",
       "      <th>zindexvalue</th>\n",
       "      <th>lastsoldprice</th>\n",
       "    </tr>\n",
       "  </thead>\n",
       "  <tbody>\n",
       "    <tr>\n",
       "      <th>0</th>\n",
       "      <td>2.0</td>\n",
       "      <td>2.0</td>\n",
       "      <td>1043.0</td>\n",
       "      <td>4.0</td>\n",
       "      <td>Condominium</td>\n",
       "      <td>2007.0</td>\n",
       "      <td>975700</td>\n",
       "      <td>1300000.0</td>\n",
       "    </tr>\n",
       "    <tr>\n",
       "      <th>1</th>\n",
       "      <td>1.0</td>\n",
       "      <td>1.0</td>\n",
       "      <td>903.0</td>\n",
       "      <td>3.0</td>\n",
       "      <td>Condominium</td>\n",
       "      <td>2004.0</td>\n",
       "      <td>975700</td>\n",
       "      <td>750000.0</td>\n",
       "    </tr>\n",
       "    <tr>\n",
       "      <th>2</th>\n",
       "      <td>4.0</td>\n",
       "      <td>3.0</td>\n",
       "      <td>1425.0</td>\n",
       "      <td>6.0</td>\n",
       "      <td>Condominium</td>\n",
       "      <td>2003.0</td>\n",
       "      <td>1277600</td>\n",
       "      <td>1495000.0</td>\n",
       "    </tr>\n",
       "    <tr>\n",
       "      <th>3</th>\n",
       "      <td>3.0</td>\n",
       "      <td>3.0</td>\n",
       "      <td>2231.0</td>\n",
       "      <td>10.0</td>\n",
       "      <td>SingleFamily</td>\n",
       "      <td>1927.0</td>\n",
       "      <td>1277600</td>\n",
       "      <td>2700000.0</td>\n",
       "    </tr>\n",
       "    <tr>\n",
       "      <th>4</th>\n",
       "      <td>3.0</td>\n",
       "      <td>3.0</td>\n",
       "      <td>1300.0</td>\n",
       "      <td>4.0</td>\n",
       "      <td>SingleFamily</td>\n",
       "      <td>1900.0</td>\n",
       "      <td>1248000</td>\n",
       "      <td>1530000.0</td>\n",
       "    </tr>\n",
       "  </tbody>\n",
       "</table>\n",
       "</div>"
      ],
      "text/plain": [
       "   bathrooms  bedrooms  finishedsqft  totalrooms       usecode  yearbuilt  \\\n",
       "0        2.0       2.0        1043.0         4.0   Condominium     2007.0   \n",
       "1        1.0       1.0         903.0         3.0   Condominium     2004.0   \n",
       "2        4.0       3.0        1425.0         6.0   Condominium     2003.0   \n",
       "3        3.0       3.0        2231.0        10.0  SingleFamily     1927.0   \n",
       "4        3.0       3.0        1300.0         4.0  SingleFamily     1900.0   \n",
       "\n",
       "   zindexvalue  lastsoldprice  \n",
       "0       975700      1300000.0  \n",
       "1       975700       750000.0  \n",
       "2      1277600      1495000.0  \n",
       "3      1277600      2700000.0  \n",
       "4      1248000      1530000.0  "
      ]
     },
     "execution_count": 15,
     "metadata": {},
     "output_type": "execute_result"
    }
   ],
   "source": [
    "sf.drop(sf.columns[[0, 4, 6, 7, 8]], axis=1, inplace=True)\n",
    "sf = sf[['bathrooms', 'bedrooms', 'finishedsqft', 'totalrooms', 'usecode', 'yearbuilt','zindexvalue', 'lastsoldprice']]\n",
    "sf.head()"
   ]
  },
  {
   "cell_type": "markdown",
   "metadata": {},
   "source": [
    "#### Create dummy variables (converting categorical variables to numerical ones), as well as, indicating the predictors and target variables"
   ]
  },
  {
   "cell_type": "code",
   "execution_count": 16,
   "metadata": {},
   "outputs": [],
   "source": [
    "X = sf[['bathrooms', 'bedrooms', 'finishedsqft', 'totalrooms', 'usecode', 'yearbuilt', \n",
    "         'zindexvalue']]\n",
    "Y = sf['lastsoldprice']\n",
    "#create dummy variables for groups\n",
    "m = pd.get_dummies(sf.usecode)\n",
    "X = pd.concat([X, m], axis=1)"
   ]
  },
  {
   "cell_type": "code",
   "execution_count": 17,
   "metadata": {},
   "outputs": [],
   "source": [
    "drops = ['usecode']\n",
    "X.drop(drops, inplace=True, axis=1)"
   ]
  },
  {
   "cell_type": "code",
   "execution_count": 18,
   "metadata": {},
   "outputs": [
    {
     "name": "stdout",
     "output_type": "stream",
     "text": [
      "(11329, 16)\n"
     ]
    },
    {
     "data": {
      "text/html": [
       "<div>\n",
       "<style scoped>\n",
       "    .dataframe tbody tr th:only-of-type {\n",
       "        vertical-align: middle;\n",
       "    }\n",
       "\n",
       "    .dataframe tbody tr th {\n",
       "        vertical-align: top;\n",
       "    }\n",
       "\n",
       "    .dataframe thead th {\n",
       "        text-align: right;\n",
       "    }\n",
       "</style>\n",
       "<table border=\"1\" class=\"dataframe\">\n",
       "  <thead>\n",
       "    <tr style=\"text-align: right;\">\n",
       "      <th></th>\n",
       "      <th>bathrooms</th>\n",
       "      <th>bedrooms</th>\n",
       "      <th>finishedsqft</th>\n",
       "      <th>totalrooms</th>\n",
       "      <th>yearbuilt</th>\n",
       "      <th>zindexvalue</th>\n",
       "      <th>Apartment</th>\n",
       "      <th>Condominium</th>\n",
       "      <th>Cooperative</th>\n",
       "      <th>Duplex</th>\n",
       "      <th>Miscellaneous</th>\n",
       "      <th>Mobile</th>\n",
       "      <th>MultiFamily2To4</th>\n",
       "      <th>MultiFamily5Plus</th>\n",
       "      <th>SingleFamily</th>\n",
       "      <th>Townhouse</th>\n",
       "    </tr>\n",
       "  </thead>\n",
       "  <tbody>\n",
       "    <tr>\n",
       "      <th>0</th>\n",
       "      <td>2.0</td>\n",
       "      <td>2.0</td>\n",
       "      <td>1043.0</td>\n",
       "      <td>4.0</td>\n",
       "      <td>2007.0</td>\n",
       "      <td>975700</td>\n",
       "      <td>0</td>\n",
       "      <td>1</td>\n",
       "      <td>0</td>\n",
       "      <td>0</td>\n",
       "      <td>0</td>\n",
       "      <td>0</td>\n",
       "      <td>0</td>\n",
       "      <td>0</td>\n",
       "      <td>0</td>\n",
       "      <td>0</td>\n",
       "    </tr>\n",
       "    <tr>\n",
       "      <th>1</th>\n",
       "      <td>1.0</td>\n",
       "      <td>1.0</td>\n",
       "      <td>903.0</td>\n",
       "      <td>3.0</td>\n",
       "      <td>2004.0</td>\n",
       "      <td>975700</td>\n",
       "      <td>0</td>\n",
       "      <td>1</td>\n",
       "      <td>0</td>\n",
       "      <td>0</td>\n",
       "      <td>0</td>\n",
       "      <td>0</td>\n",
       "      <td>0</td>\n",
       "      <td>0</td>\n",
       "      <td>0</td>\n",
       "      <td>0</td>\n",
       "    </tr>\n",
       "    <tr>\n",
       "      <th>2</th>\n",
       "      <td>4.0</td>\n",
       "      <td>3.0</td>\n",
       "      <td>1425.0</td>\n",
       "      <td>6.0</td>\n",
       "      <td>2003.0</td>\n",
       "      <td>1277600</td>\n",
       "      <td>0</td>\n",
       "      <td>1</td>\n",
       "      <td>0</td>\n",
       "      <td>0</td>\n",
       "      <td>0</td>\n",
       "      <td>0</td>\n",
       "      <td>0</td>\n",
       "      <td>0</td>\n",
       "      <td>0</td>\n",
       "      <td>0</td>\n",
       "    </tr>\n",
       "    <tr>\n",
       "      <th>3</th>\n",
       "      <td>3.0</td>\n",
       "      <td>3.0</td>\n",
       "      <td>2231.0</td>\n",
       "      <td>10.0</td>\n",
       "      <td>1927.0</td>\n",
       "      <td>1277600</td>\n",
       "      <td>0</td>\n",
       "      <td>0</td>\n",
       "      <td>0</td>\n",
       "      <td>0</td>\n",
       "      <td>0</td>\n",
       "      <td>0</td>\n",
       "      <td>0</td>\n",
       "      <td>0</td>\n",
       "      <td>1</td>\n",
       "      <td>0</td>\n",
       "    </tr>\n",
       "    <tr>\n",
       "      <th>4</th>\n",
       "      <td>3.0</td>\n",
       "      <td>3.0</td>\n",
       "      <td>1300.0</td>\n",
       "      <td>4.0</td>\n",
       "      <td>1900.0</td>\n",
       "      <td>1248000</td>\n",
       "      <td>0</td>\n",
       "      <td>0</td>\n",
       "      <td>0</td>\n",
       "      <td>0</td>\n",
       "      <td>0</td>\n",
       "      <td>0</td>\n",
       "      <td>0</td>\n",
       "      <td>0</td>\n",
       "      <td>1</td>\n",
       "      <td>0</td>\n",
       "    </tr>\n",
       "  </tbody>\n",
       "</table>\n",
       "</div>"
      ],
      "text/plain": [
       "   bathrooms  bedrooms  finishedsqft  totalrooms  yearbuilt  zindexvalue  \\\n",
       "0        2.0       2.0        1043.0         4.0     2007.0       975700   \n",
       "1        1.0       1.0         903.0         3.0     2004.0       975700   \n",
       "2        4.0       3.0        1425.0         6.0     2003.0      1277600   \n",
       "3        3.0       3.0        2231.0        10.0     1927.0      1277600   \n",
       "4        3.0       3.0        1300.0         4.0     1900.0      1248000   \n",
       "\n",
       "   Apartment  Condominium  Cooperative  Duplex  Miscellaneous  Mobile  \\\n",
       "0          0            1            0       0              0       0   \n",
       "1          0            1            0       0              0       0   \n",
       "2          0            1            0       0              0       0   \n",
       "3          0            0            0       0              0       0   \n",
       "4          0            0            0       0              0       0   \n",
       "\n",
       "   MultiFamily2To4  MultiFamily5Plus  SingleFamily  Townhouse  \n",
       "0                0                 0             0          0  \n",
       "1                0                 0             0          0  \n",
       "2                0                 0             0          0  \n",
       "3                0                 0             1          0  \n",
       "4                0                 0             1          0  "
      ]
     },
     "execution_count": 18,
     "metadata": {},
     "output_type": "execute_result"
    }
   ],
   "source": [
    "print(X.shape)\n",
    "X.head()"
   ]
  },
  {
   "cell_type": "code",
   "execution_count": 19,
   "metadata": {},
   "outputs": [
    {
     "data": {
      "text/plain": [
       "(11329,)"
      ]
     },
     "execution_count": 19,
     "metadata": {},
     "output_type": "execute_result"
    }
   ],
   "source": [
    "Y.shape"
   ]
  },
  {
   "cell_type": "markdown",
   "metadata": {},
   "source": [
    "## Train and Build a ML Model"
   ]
  },
  {
   "cell_type": "markdown",
   "metadata": {},
   "source": [
    "#### Generally, it is necessary to standardize/normalize the features before training. It will brings all the features into a common range (0.1) to avoid biasing toward big magnitudes."
   ]
  },
  {
   "cell_type": "code",
   "execution_count": 20,
   "metadata": {},
   "outputs": [
    {
     "name": "stderr",
     "output_type": "stream",
     "text": [
      "/home/saman/anaconda3/envs/env_tensorflow/lib/python3.6/site-packages/sklearn/preprocessing/data.py:625: DataConversionWarning: Data with input dtype uint8, int64, float64 were all converted to float64 by StandardScaler.\n",
      "  return self.partial_fit(X, y)\n",
      "/home/saman/anaconda3/envs/env_tensorflow/lib/python3.6/site-packages/sklearn/base.py:462: DataConversionWarning: Data with input dtype uint8, int64, float64 were all converted to float64 by StandardScaler.\n",
      "  return self.fit(X, **fit_params).transform(X)\n"
     ]
    }
   ],
   "source": [
    "from sklearn.preprocessing import StandardScaler\n",
    "scaler = StandardScaler()\n",
    "X = scaler.fit_transform(X)"
   ]
  },
  {
   "cell_type": "markdown",
   "metadata": {},
   "source": [
    "#### Split the data set into training and test data"
   ]
  },
  {
   "cell_type": "code",
   "execution_count": 21,
   "metadata": {},
   "outputs": [],
   "source": [
    "from sklearn.model_selection import train_test_split\n",
    "\n",
    "X_train, X_test, y_train, y_test = train_test_split(X, Y, test_size=0.3, random_state=0)"
   ]
  },
  {
   "cell_type": "code",
   "execution_count": 22,
   "metadata": {},
   "outputs": [
    {
     "data": {
      "text/plain": [
       "LinearRegression(copy_X=True, fit_intercept=True, n_jobs=None,\n",
       "         normalize=False)"
      ]
     },
     "execution_count": 22,
     "metadata": {},
     "output_type": "execute_result"
    }
   ],
   "source": [
    "from sklearn.linear_model import LinearRegression\n",
    "regressor = LinearRegression()\n",
    "regressor.fit(X_train, y_train)"
   ]
  },
  {
   "cell_type": "code",
   "execution_count": 23,
   "metadata": {},
   "outputs": [
    {
     "name": "stdout",
     "output_type": "stream",
     "text": [
      "Liner Regression R squared accuracy: 0.5279\n"
     ]
    }
   ],
   "source": [
    "y_pred = regressor.predict(X_test)\n",
    "print('Liner Regression R squared accuracy: %.4f' % regressor.score(X_test, y_test))"
   ]
  },
  {
   "cell_type": "code",
   "execution_count": 24,
   "metadata": {},
   "outputs": [
    {
     "name": "stdout",
     "output_type": "stream",
     "text": [
      "Liner Regression RMSE: 655348.2761\n"
     ]
    }
   ],
   "source": [
    "import numpy as np\n",
    "from sklearn.metrics import mean_squared_error\n",
    "lin_mse = mean_squared_error(y_pred, y_test)\n",
    "lin_rmse = np.sqrt(lin_mse)\n",
    "print('Liner Regression RMSE: %.4f' % lin_rmse)"
   ]
  },
  {
   "cell_type": "markdown",
   "metadata": {},
   "source": [
    "#### Linear regression model was able to predict the value of every house in the test set within 655000 of the real price."
   ]
  },
  {
   "cell_type": "code",
   "execution_count": 25,
   "metadata": {},
   "outputs": [
    {
     "name": "stdout",
     "output_type": "stream",
     "text": [
      "Liner Regression MAE: 376525.4169\n"
     ]
    }
   ],
   "source": [
    "from sklearn.metrics import mean_absolute_error\n",
    "\n",
    "lin_mae = mean_absolute_error(y_pred, y_test)\n",
    "print('Liner Regression MAE: %.4f' % lin_mae)"
   ]
  },
  {
   "cell_type": "code",
   "execution_count": 26,
   "metadata": {},
   "outputs": [
    {
     "name": "stderr",
     "output_type": "stream",
     "text": [
      "/home/saman/anaconda3/envs/env_tensorflow/lib/python3.6/site-packages/sklearn/ensemble/forest.py:246: FutureWarning: The default value of n_estimators will change from 10 in version 0.20 to 100 in 0.22.\n",
      "  \"10 in version 0.20 to 100 in 0.22.\", FutureWarning)\n"
     ]
    },
    {
     "data": {
      "text/plain": [
       "RandomForestRegressor(bootstrap=True, criterion='mse', max_depth=None,\n",
       "           max_features='auto', max_leaf_nodes=None,\n",
       "           min_impurity_decrease=0.0, min_impurity_split=None,\n",
       "           min_samples_leaf=1, min_samples_split=2,\n",
       "           min_weight_fraction_leaf=0.0, n_estimators=10, n_jobs=None,\n",
       "           oob_score=False, random_state=42, verbose=0, warm_start=False)"
      ]
     },
     "execution_count": 26,
     "metadata": {},
     "output_type": "execute_result"
    }
   ],
   "source": [
    "from sklearn.ensemble import RandomForestRegressor\n",
    "\n",
    "forest_reg = RandomForestRegressor(random_state=42)\n",
    "forest_reg.fit(X_train, y_train)"
   ]
  },
  {
   "cell_type": "code",
   "execution_count": 27,
   "metadata": {},
   "outputs": [
    {
     "name": "stdout",
     "output_type": "stream",
     "text": [
      "Random Forest R squared accuracy\": 0.6164\n"
     ]
    }
   ],
   "source": [
    "print('Random Forest R squared accuracy\": %.4f' % forest_reg.score(X_test, y_test))"
   ]
  },
  {
   "cell_type": "code",
   "execution_count": 28,
   "metadata": {},
   "outputs": [
    {
     "name": "stdout",
     "output_type": "stream",
     "text": [
      "Random Forest RMSE: 590729.4480\n"
     ]
    }
   ],
   "source": [
    "y_pred = forest_reg.predict(X_test)\n",
    "forest_mse = mean_squared_error(y_pred, y_test)\n",
    "forest_rmse = np.sqrt(forest_mse)\n",
    "print('Random Forest RMSE: %.4f' % forest_rmse)"
   ]
  },
  {
   "cell_type": "markdown",
   "metadata": {},
   "source": [
    "#### Random forest model was able to predict the value of every house in the test set within 590000 of the real price."
   ]
  },
  {
   "cell_type": "code",
   "execution_count": 29,
   "metadata": {},
   "outputs": [
    {
     "data": {
      "text/plain": [
       "GradientBoostingRegressor(alpha=0.9, criterion='friedman_mse', init=None,\n",
       "             learning_rate=0.1, loss='ls', max_depth=3, max_features=None,\n",
       "             max_leaf_nodes=None, min_impurity_decrease=0.0,\n",
       "             min_impurity_split=None, min_samples_leaf=1,\n",
       "             min_samples_split=2, min_weight_fraction_leaf=0.0,\n",
       "             n_estimators=100, n_iter_no_change=None, presort='auto',\n",
       "             random_state=None, subsample=1.0, tol=0.0001,\n",
       "             validation_fraction=0.1, verbose=0, warm_start=False)"
      ]
     },
     "execution_count": 29,
     "metadata": {},
     "output_type": "execute_result"
    }
   ],
   "source": [
    "from sklearn import ensemble\n",
    "from sklearn.ensemble import GradientBoostingRegressor\n",
    "model = ensemble.GradientBoostingRegressor()\n",
    "model.fit(X_train, y_train)"
   ]
  },
  {
   "cell_type": "code",
   "execution_count": 30,
   "metadata": {},
   "outputs": [
    {
     "name": "stdout",
     "output_type": "stream",
     "text": [
      "Gradient Boosting R squared accuracy\": 0.6239\n"
     ]
    }
   ],
   "source": [
    "print('Gradient Boosting R squared accuracy\": %.4f' % model.score(X_test, y_test))"
   ]
  },
  {
   "cell_type": "code",
   "execution_count": 31,
   "metadata": {},
   "outputs": [
    {
     "name": "stdout",
     "output_type": "stream",
     "text": [
      "Gradient Boosting RMSE: 584908.2750\n"
     ]
    }
   ],
   "source": [
    "y_pred = model.predict(X_test)\n",
    "model_mse = mean_squared_error(y_pred, y_test)\n",
    "model_rmse = np.sqrt(model_mse)\n",
    "print('Gradient Boosting RMSE: %.4f' % model_rmse)"
   ]
  },
  {
   "cell_type": "markdown",
   "metadata": {},
   "source": [
    "#### Gradient boosting model was able to predict the value of every house in the test set within 583000 of the real price."
   ]
  },
  {
   "cell_type": "code",
   "execution_count": 32,
   "metadata": {
    "scrolled": false
   },
   "outputs": [
    {
     "name": "stdout",
     "output_type": "stream",
     "text": [
      "Starting training...\n",
      "[1]\tvalid_0's l1: 594431\tvalid_0's l2: 9.00091e+11\n",
      "Training until validation scores don't improve for 5 rounds.\n",
      "[2]\tvalid_0's l1: 590247\tvalid_0's l2: 8.88879e+11\n",
      "[3]\tvalid_0's l1: 586225\tvalid_0's l2: 8.78518e+11\n",
      "[4]\tvalid_0's l1: 582177\tvalid_0's l2: 8.67765e+11\n",
      "[5]\tvalid_0's l1: 578834\tvalid_0's l2: 8.58414e+11\n",
      "[6]\tvalid_0's l1: 574889\tvalid_0's l2: 8.48132e+11\n",
      "[7]\tvalid_0's l1: 570997\tvalid_0's l2: 8.38017e+11\n",
      "[8]\tvalid_0's l1: 567159\tvalid_0's l2: 8.28107e+11\n",
      "[9]\tvalid_0's l1: 563368\tvalid_0's l2: 8.18376e+11\n",
      "[10]\tvalid_0's l1: 560260\tvalid_0's l2: 8.10253e+11\n",
      "[11]\tvalid_0's l1: 557256\tvalid_0's l2: 8.02004e+11\n",
      "[12]\tvalid_0's l1: 553639\tvalid_0's l2: 7.92974e+11\n",
      "[13]\tvalid_0's l1: 550071\tvalid_0's l2: 7.83944e+11\n",
      "[14]\tvalid_0's l1: 546560\tvalid_0's l2: 7.75312e+11\n",
      "[15]\tvalid_0's l1: 543139\tvalid_0's l2: 7.66861e+11\n",
      "[16]\tvalid_0's l1: 540299\tvalid_0's l2: 7.59428e+11\n",
      "[17]\tvalid_0's l1: 536873\tvalid_0's l2: 7.51114e+11\n",
      "[18]\tvalid_0's l1: 533545\tvalid_0's l2: 7.42893e+11\n",
      "[19]\tvalid_0's l1: 530284\tvalid_0's l2: 7.34826e+11\n",
      "[20]\tvalid_0's l1: 526927\tvalid_0's l2: 7.26814e+11\n",
      "[21]\tvalid_0's l1: 523710\tvalid_0's l2: 7.19142e+11\n",
      "[22]\tvalid_0's l1: 520512\tvalid_0's l2: 7.11638e+11\n",
      "[23]\tvalid_0's l1: 517887\tvalid_0's l2: 7.04977e+11\n",
      "[24]\tvalid_0's l1: 514775\tvalid_0's l2: 6.97696e+11\n",
      "[25]\tvalid_0's l1: 511714\tvalid_0's l2: 6.90651e+11\n",
      "[26]\tvalid_0's l1: 509194\tvalid_0's l2: 6.84517e+11\n",
      "[27]\tvalid_0's l1: 506209\tvalid_0's l2: 6.77766e+11\n",
      "[28]\tvalid_0's l1: 503310\tvalid_0's l2: 6.71241e+11\n",
      "[29]\tvalid_0's l1: 500382\tvalid_0's l2: 6.64709e+11\n",
      "[30]\tvalid_0's l1: 497498\tvalid_0's l2: 6.58314e+11\n",
      "[31]\tvalid_0's l1: 494628\tvalid_0's l2: 6.52196e+11\n",
      "[32]\tvalid_0's l1: 492298\tvalid_0's l2: 6.46811e+11\n",
      "[33]\tvalid_0's l1: 489514\tvalid_0's l2: 6.40857e+11\n",
      "[34]\tvalid_0's l1: 487005\tvalid_0's l2: 6.35516e+11\n",
      "[35]\tvalid_0's l1: 484771\tvalid_0's l2: 6.30484e+11\n",
      "[36]\tvalid_0's l1: 482108\tvalid_0's l2: 6.24667e+11\n",
      "[37]\tvalid_0's l1: 479383\tvalid_0's l2: 6.18637e+11\n",
      "[38]\tvalid_0's l1: 476692\tvalid_0's l2: 6.12705e+11\n",
      "[39]\tvalid_0's l1: 474045\tvalid_0's l2: 6.06939e+11\n",
      "[40]\tvalid_0's l1: 471868\tvalid_0's l2: 6.0202e+11\n",
      "[41]\tvalid_0's l1: 469315\tvalid_0's l2: 5.96373e+11\n",
      "[42]\tvalid_0's l1: 466976\tvalid_0's l2: 5.91385e+11\n",
      "[43]\tvalid_0's l1: 464998\tvalid_0's l2: 5.87043e+11\n",
      "[44]\tvalid_0's l1: 462635\tvalid_0's l2: 5.81789e+11\n",
      "[45]\tvalid_0's l1: 460223\tvalid_0's l2: 5.76487e+11\n",
      "[46]\tvalid_0's l1: 457860\tvalid_0's l2: 5.71727e+11\n",
      "[47]\tvalid_0's l1: 455560\tvalid_0's l2: 5.67001e+11\n",
      "[48]\tvalid_0's l1: 453656\tvalid_0's l2: 5.62989e+11\n",
      "[49]\tvalid_0's l1: 451389\tvalid_0's l2: 5.58522e+11\n",
      "[50]\tvalid_0's l1: 449201\tvalid_0's l2: 5.54114e+11\n",
      "[51]\tvalid_0's l1: 447335\tvalid_0's l2: 5.50218e+11\n",
      "[52]\tvalid_0's l1: 445509\tvalid_0's l2: 5.46511e+11\n",
      "[53]\tvalid_0's l1: 443319\tvalid_0's l2: 5.42234e+11\n",
      "[54]\tvalid_0's l1: 441235\tvalid_0's l2: 5.38169e+11\n",
      "[55]\tvalid_0's l1: 439111\tvalid_0's l2: 5.34054e+11\n",
      "[56]\tvalid_0's l1: 437016\tvalid_0's l2: 5.2985e+11\n",
      "[57]\tvalid_0's l1: 434948\tvalid_0's l2: 5.2578e+11\n",
      "[58]\tvalid_0's l1: 432919\tvalid_0's l2: 5.21696e+11\n",
      "[59]\tvalid_0's l1: 430909\tvalid_0's l2: 5.17712e+11\n",
      "[60]\tvalid_0's l1: 428893\tvalid_0's l2: 5.13669e+11\n",
      "[61]\tvalid_0's l1: 426914\tvalid_0's l2: 5.10105e+11\n",
      "[62]\tvalid_0's l1: 424991\tvalid_0's l2: 5.06712e+11\n",
      "[63]\tvalid_0's l1: 423093\tvalid_0's l2: 5.03392e+11\n",
      "[64]\tvalid_0's l1: 421226\tvalid_0's l2: 5.00145e+11\n",
      "[65]\tvalid_0's l1: 419351\tvalid_0's l2: 4.96849e+11\n",
      "[66]\tvalid_0's l1: 417803\tvalid_0's l2: 4.93952e+11\n",
      "[67]\tvalid_0's l1: 416465\tvalid_0's l2: 4.91428e+11\n",
      "[68]\tvalid_0's l1: 414545\tvalid_0's l2: 4.87859e+11\n",
      "[69]\tvalid_0's l1: 412817\tvalid_0's l2: 4.84722e+11\n",
      "[70]\tvalid_0's l1: 410946\tvalid_0's l2: 4.81291e+11\n",
      "[71]\tvalid_0's l1: 409131\tvalid_0's l2: 4.7797e+11\n",
      "[72]\tvalid_0's l1: 407458\tvalid_0's l2: 4.75171e+11\n",
      "[73]\tvalid_0's l1: 405721\tvalid_0's l2: 4.72e+11\n",
      "[74]\tvalid_0's l1: 404105\tvalid_0's l2: 4.69323e+11\n",
      "[75]\tvalid_0's l1: 402445\tvalid_0's l2: 4.66411e+11\n",
      "[76]\tvalid_0's l1: 400645\tvalid_0's l2: 4.63171e+11\n",
      "[77]\tvalid_0's l1: 398860\tvalid_0's l2: 4.60007e+11\n",
      "[78]\tvalid_0's l1: 397127\tvalid_0's l2: 4.5693e+11\n",
      "[79]\tvalid_0's l1: 395789\tvalid_0's l2: 4.54475e+11\n",
      "[80]\tvalid_0's l1: 394118\tvalid_0's l2: 4.51507e+11\n",
      "[81]\tvalid_0's l1: 392867\tvalid_0's l2: 4.49367e+11\n",
      "[82]\tvalid_0's l1: 391384\tvalid_0's l2: 4.4696e+11\n",
      "[83]\tvalid_0's l1: 390302\tvalid_0's l2: 4.45023e+11\n",
      "[84]\tvalid_0's l1: 388898\tvalid_0's l2: 4.42556e+11\n",
      "[85]\tvalid_0's l1: 387526\tvalid_0's l2: 4.40159e+11\n",
      "[86]\tvalid_0's l1: 386199\tvalid_0's l2: 4.37951e+11\n",
      "[87]\tvalid_0's l1: 384867\tvalid_0's l2: 4.35762e+11\n",
      "[88]\tvalid_0's l1: 383453\tvalid_0's l2: 4.33517e+11\n",
      "[89]\tvalid_0's l1: 382166\tvalid_0's l2: 4.31345e+11\n",
      "[90]\tvalid_0's l1: 380901\tvalid_0's l2: 4.29252e+11\n",
      "[91]\tvalid_0's l1: 379603\tvalid_0's l2: 4.26987e+11\n",
      "[92]\tvalid_0's l1: 378315\tvalid_0's l2: 4.24857e+11\n",
      "[93]\tvalid_0's l1: 377057\tvalid_0's l2: 4.22646e+11\n",
      "[94]\tvalid_0's l1: 376072\tvalid_0's l2: 4.21011e+11\n",
      "[95]\tvalid_0's l1: 375111\tvalid_0's l2: 4.19428e+11\n",
      "[96]\tvalid_0's l1: 373888\tvalid_0's l2: 4.17236e+11\n",
      "[97]\tvalid_0's l1: 372739\tvalid_0's l2: 4.15439e+11\n",
      "[98]\tvalid_0's l1: 371815\tvalid_0's l2: 4.13795e+11\n",
      "[99]\tvalid_0's l1: 370687\tvalid_0's l2: 4.11915e+11\n",
      "[100]\tvalid_0's l1: 369577\tvalid_0's l2: 4.10171e+11\n",
      "[101]\tvalid_0's l1: 368408\tvalid_0's l2: 4.08291e+11\n",
      "[102]\tvalid_0's l1: 367283\tvalid_0's l2: 4.06322e+11\n",
      "[103]\tvalid_0's l1: 366463\tvalid_0's l2: 4.04973e+11\n",
      "[104]\tvalid_0's l1: 365300\tvalid_0's l2: 4.0324e+11\n",
      "[105]\tvalid_0's l1: 364176\tvalid_0's l2: 4.01507e+11\n",
      "[106]\tvalid_0's l1: 363066\tvalid_0's l2: 3.99742e+11\n",
      "[107]\tvalid_0's l1: 361993\tvalid_0's l2: 3.98028e+11\n",
      "[108]\tvalid_0's l1: 360992\tvalid_0's l2: 3.96573e+11\n",
      "[109]\tvalid_0's l1: 359951\tvalid_0's l2: 3.94911e+11\n",
      "[110]\tvalid_0's l1: 358892\tvalid_0's l2: 3.93289e+11\n",
      "[111]\tvalid_0's l1: 357911\tvalid_0's l2: 3.91771e+11\n",
      "[112]\tvalid_0's l1: 357123\tvalid_0's l2: 3.90304e+11\n",
      "[113]\tvalid_0's l1: 356465\tvalid_0's l2: 3.89137e+11\n",
      "[114]\tvalid_0's l1: 355528\tvalid_0's l2: 3.87608e+11\n",
      "[115]\tvalid_0's l1: 354570\tvalid_0's l2: 3.86069e+11\n",
      "[116]\tvalid_0's l1: 353592\tvalid_0's l2: 3.84587e+11\n",
      "[117]\tvalid_0's l1: 352654\tvalid_0's l2: 3.83139e+11\n",
      "[118]\tvalid_0's l1: 351940\tvalid_0's l2: 3.81948e+11\n",
      "[119]\tvalid_0's l1: 351093\tvalid_0's l2: 3.80419e+11\n",
      "[120]\tvalid_0's l1: 350147\tvalid_0's l2: 3.78964e+11\n",
      "[121]\tvalid_0's l1: 349445\tvalid_0's l2: 3.77828e+11\n",
      "[122]\tvalid_0's l1: 348653\tvalid_0's l2: 3.76549e+11\n",
      "[123]\tvalid_0's l1: 347865\tvalid_0's l2: 3.75357e+11\n",
      "[124]\tvalid_0's l1: 346965\tvalid_0's l2: 3.74015e+11\n",
      "[125]\tvalid_0's l1: 346077\tvalid_0's l2: 3.72758e+11\n",
      "[126]\tvalid_0's l1: 345218\tvalid_0's l2: 3.71378e+11\n",
      "[127]\tvalid_0's l1: 344367\tvalid_0's l2: 3.70132e+11\n",
      "[128]\tvalid_0's l1: 343536\tvalid_0's l2: 3.68823e+11\n",
      "[129]\tvalid_0's l1: 342714\tvalid_0's l2: 3.67553e+11\n",
      "[130]\tvalid_0's l1: 341919\tvalid_0's l2: 3.66318e+11\n",
      "[131]\tvalid_0's l1: 341120\tvalid_0's l2: 3.65194e+11\n",
      "[132]\tvalid_0's l1: 340336\tvalid_0's l2: 3.63965e+11\n",
      "[133]\tvalid_0's l1: 339555\tvalid_0's l2: 3.62728e+11\n",
      "[134]\tvalid_0's l1: 338798\tvalid_0's l2: 3.61633e+11\n",
      "[135]\tvalid_0's l1: 338096\tvalid_0's l2: 3.60527e+11\n",
      "[136]\tvalid_0's l1: 337366\tvalid_0's l2: 3.59535e+11\n",
      "[137]\tvalid_0's l1: 336880\tvalid_0's l2: 3.58987e+11\n",
      "[138]\tvalid_0's l1: 336183\tvalid_0's l2: 3.57994e+11\n",
      "[139]\tvalid_0's l1: 335646\tvalid_0's l2: 3.57444e+11\n",
      "[140]\tvalid_0's l1: 335127\tvalid_0's l2: 3.56915e+11\n",
      "[141]\tvalid_0's l1: 334493\tvalid_0's l2: 3.56002e+11\n",
      "[142]\tvalid_0's l1: 333832\tvalid_0's l2: 3.55125e+11\n",
      "[143]\tvalid_0's l1: 333226\tvalid_0's l2: 3.54286e+11\n",
      "[144]\tvalid_0's l1: 332632\tvalid_0's l2: 3.53462e+11\n",
      "[145]\tvalid_0's l1: 332152\tvalid_0's l2: 3.52732e+11\n",
      "[146]\tvalid_0's l1: 331592\tvalid_0's l2: 3.51862e+11\n",
      "[147]\tvalid_0's l1: 330981\tvalid_0's l2: 3.50992e+11\n",
      "[148]\tvalid_0's l1: 330508\tvalid_0's l2: 3.50235e+11\n",
      "[149]\tvalid_0's l1: 330053\tvalid_0's l2: 3.49498e+11\n",
      "[150]\tvalid_0's l1: 329479\tvalid_0's l2: 3.48766e+11\n",
      "[151]\tvalid_0's l1: 329088\tvalid_0's l2: 3.48157e+11\n",
      "[152]\tvalid_0's l1: 328432\tvalid_0's l2: 3.47176e+11\n",
      "[153]\tvalid_0's l1: 328047\tvalid_0's l2: 3.46601e+11\n",
      "[154]\tvalid_0's l1: 327668\tvalid_0's l2: 3.46028e+11\n",
      "[155]\tvalid_0's l1: 327079\tvalid_0's l2: 3.45234e+11\n",
      "[156]\tvalid_0's l1: 326572\tvalid_0's l2: 3.44412e+11\n",
      "[157]\tvalid_0's l1: 326044\tvalid_0's l2: 3.43854e+11\n",
      "[158]\tvalid_0's l1: 325681\tvalid_0's l2: 3.43334e+11\n",
      "[159]\tvalid_0's l1: 325194\tvalid_0's l2: 3.42549e+11\n",
      "[160]\tvalid_0's l1: 324737\tvalid_0's l2: 3.41839e+11\n",
      "[161]\tvalid_0's l1: 324242\tvalid_0's l2: 3.4127e+11\n",
      "[162]\tvalid_0's l1: 323773\tvalid_0's l2: 3.4072e+11\n",
      "[163]\tvalid_0's l1: 323307\tvalid_0's l2: 3.40001e+11\n",
      "[164]\tvalid_0's l1: 322857\tvalid_0's l2: 3.39371e+11\n",
      "[165]\tvalid_0's l1: 322453\tvalid_0's l2: 3.38953e+11\n",
      "[166]\tvalid_0's l1: 322008\tvalid_0's l2: 3.38276e+11\n",
      "[167]\tvalid_0's l1: 321552\tvalid_0's l2: 3.37541e+11\n",
      "[168]\tvalid_0's l1: 321199\tvalid_0's l2: 3.36993e+11\n",
      "[169]\tvalid_0's l1: 320738\tvalid_0's l2: 3.36216e+11\n",
      "[170]\tvalid_0's l1: 320335\tvalid_0's l2: 3.35674e+11\n",
      "[171]\tvalid_0's l1: 319881\tvalid_0's l2: 3.34994e+11\n",
      "[172]\tvalid_0's l1: 319446\tvalid_0's l2: 3.34458e+11\n",
      "[173]\tvalid_0's l1: 319116\tvalid_0's l2: 3.34093e+11\n",
      "[174]\tvalid_0's l1: 318689\tvalid_0's l2: 3.33563e+11\n",
      "[175]\tvalid_0's l1: 318303\tvalid_0's l2: 3.33029e+11\n",
      "[176]\tvalid_0's l1: 317902\tvalid_0's l2: 3.32383e+11\n",
      "[177]\tvalid_0's l1: 317468\tvalid_0's l2: 3.3174e+11\n",
      "[178]\tvalid_0's l1: 317061\tvalid_0's l2: 3.31124e+11\n",
      "[179]\tvalid_0's l1: 316677\tvalid_0's l2: 3.30528e+11\n",
      "[180]\tvalid_0's l1: 316321\tvalid_0's l2: 3.30015e+11\n",
      "[181]\tvalid_0's l1: 316001\tvalid_0's l2: 3.29636e+11\n",
      "[182]\tvalid_0's l1: 315699\tvalid_0's l2: 3.29266e+11\n",
      "[183]\tvalid_0's l1: 315368\tvalid_0's l2: 3.28821e+11\n",
      "[184]\tvalid_0's l1: 315097\tvalid_0's l2: 3.2851e+11\n",
      "[185]\tvalid_0's l1: 314789\tvalid_0's l2: 3.2809e+11\n",
      "[186]\tvalid_0's l1: 314428\tvalid_0's l2: 3.27575e+11\n",
      "[187]\tvalid_0's l1: 314114\tvalid_0's l2: 3.27055e+11\n",
      "[188]\tvalid_0's l1: 313824\tvalid_0's l2: 3.26638e+11\n",
      "[189]\tvalid_0's l1: 313524\tvalid_0's l2: 3.26177e+11\n",
      "[190]\tvalid_0's l1: 313180\tvalid_0's l2: 3.25632e+11\n",
      "[191]\tvalid_0's l1: 312945\tvalid_0's l2: 3.25361e+11\n",
      "[192]\tvalid_0's l1: 312650\tvalid_0's l2: 3.24885e+11\n",
      "[193]\tvalid_0's l1: 312357\tvalid_0's l2: 3.24419e+11\n",
      "[194]\tvalid_0's l1: 312148\tvalid_0's l2: 3.24141e+11\n"
     ]
    },
    {
     "name": "stdout",
     "output_type": "stream",
     "text": [
      "[195]\tvalid_0's l1: 311945\tvalid_0's l2: 3.23858e+11\n",
      "[196]\tvalid_0's l1: 311690\tvalid_0's l2: 3.2352e+11\n",
      "[197]\tvalid_0's l1: 311365\tvalid_0's l2: 3.23035e+11\n",
      "[198]\tvalid_0's l1: 311088\tvalid_0's l2: 3.2268e+11\n",
      "[199]\tvalid_0's l1: 310780\tvalid_0's l2: 3.22195e+11\n",
      "[200]\tvalid_0's l1: 310484\tvalid_0's l2: 3.21759e+11\n",
      "Did not meet early stopping. Best iteration is:\n",
      "[200]\tvalid_0's l1: 310484\tvalid_0's l2: 3.21759e+11\n",
      "Starting predicting...\n",
      "Light GBM RMSE: 567238.3104\n"
     ]
    }
   ],
   "source": [
    "import lightgbm as lgb\n",
    "\n",
    "# create dataset for lightgbm\n",
    "lgb_train = lgb.Dataset(X_train, y_train)\n",
    "lgb_eval = lgb.Dataset(X_test, y_test, reference=lgb_train)\n",
    "\n",
    "# specify your configurations as a dict\n",
    "params = {\n",
    "    'boosting_type': 'gbdt',\n",
    "    'objective': 'regression',\n",
    "    'metric': {'l2', 'l1'},\n",
    "    'num_leaves': 50,\n",
    "    'learning_rate': 0.01,\n",
    "    'feature_fraction': 0.9,\n",
    "    'bagging_fraction': 0.8,\n",
    "    'bagging_freq': 5,\n",
    "    'verbose': 1\n",
    "}\n",
    "\n",
    "print('Starting training...')\n",
    "# train\n",
    "gbm = lgb.train(params,\n",
    "                lgb_train,\n",
    "                num_boost_round=200,\n",
    "                valid_sets=lgb_eval,\n",
    "                early_stopping_rounds=5)\n",
    "\n",
    "print('Starting predicting...')\n",
    "# predict\n",
    "y_pred = gbm.predict(X_test, num_iteration=gbm.best_iteration)\n",
    "# eval\n",
    "gbm_mse = mean_squared_error(y_pred, y_test)\n",
    "gbm_rmse = np.sqrt(gbm_mse)\n",
    "print('Light GBM RMSE: %.4f' % gbm_rmse)"
   ]
  },
  {
   "cell_type": "markdown",
   "metadata": {},
   "source": [
    "#### Gradient boosting model with some parameter tunin was able to predict the value of every house in the test set within 567000 of the real price."
   ]
  }
 ],
 "metadata": {
  "kernelspec": {
   "display_name": "Python 3",
   "language": "python",
   "name": "python3"
  },
  "language_info": {
   "codemirror_mode": {
    "name": "ipython",
    "version": 3
   },
   "file_extension": ".py",
   "mimetype": "text/x-python",
   "name": "python",
   "nbconvert_exporter": "python",
   "pygments_lexer": "ipython3",
   "version": "3.6.8"
  }
 },
 "nbformat": 4,
 "nbformat_minor": 2
}
